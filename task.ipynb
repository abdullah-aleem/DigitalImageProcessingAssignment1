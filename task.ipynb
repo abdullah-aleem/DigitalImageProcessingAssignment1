{
 "cells": [
  {
   "cell_type": "code",
   "execution_count": 11,
   "metadata": {},
   "outputs": [],
   "source": [
    "import cv2 as cv\n",
    "from IPython.display import Image, display\n",
    "import numpy as np\n",
    "import math\n",
    "p=cv.imread('example123.jpg')\n"
   ]
  },
  {
   "cell_type": "markdown",
   "metadata": {},
   "source": [
    "Task 1:"
   ]
  },
  {
   "cell_type": "code",
   "execution_count": null,
   "metadata": {},
   "outputs": [],
   "source": [
    "\n",
    "temp=cv.resize(p,(500,600))\n",
    "cv.imshow('original',p)\n",
    "cv.imshow('resize',temp)\n",
    "cv.waitKey(0)\n"
   ]
  },
  {
   "cell_type": "markdown",
   "metadata": {},
   "source": [
    "Task2:"
   ]
  },
  {
   "cell_type": "code",
   "execution_count": 5,
   "metadata": {},
   "outputs": [
    {
     "data": {
      "text/plain": [
       "-1"
      ]
     },
     "execution_count": 5,
     "metadata": {},
     "output_type": "execute_result"
    }
   ],
   "source": [
    "\n",
    "gp=cv.cvtColor(p,cv.COLOR_RGB2GRAY)\n",
    "cv.imshow('image',gp)\n",
    "cv.waitKey(0)\n",
    "\n"
   ]
  },
  {
   "cell_type": "markdown",
   "metadata": {},
   "source": [
    "Task 3:"
   ]
  },
  {
   "cell_type": "code",
   "execution_count": 13,
   "metadata": {},
   "outputs": [
    {
     "name": "stdout",
     "output_type": "stream",
     "text": [
      "80.0\n"
     ]
    },
    {
     "data": {
      "text/plain": [
       "-1"
      ]
     },
     "execution_count": 13,
     "metadata": {},
     "output_type": "execute_result"
    }
   ],
   "source": [
    "bp=cv.cvtColor(p,cv.COLOR_RGB2GRAY)\n",
    "x,bp=cv.threshold(bp,80,255,cv.THRESH_BINARY)\n",
    "cv.imshow('image',bp)\n",
    "print(x)\n",
    "cv.waitKey()"
   ]
  },
  {
   "cell_type": "markdown",
   "metadata": {},
   "source": [
    "Task 4:"
   ]
  },
  {
   "cell_type": "code",
   "execution_count": 12,
   "metadata": {},
   "outputs": [
    {
     "name": "stdout",
     "output_type": "stream",
     "text": [
      "9\n"
     ]
    }
   ],
   "source": [
    "img=cv.imread('imag4.png')\n",
    "#convert the image to grayscale then to black and white to get the coins\n",
    "img=cv.cvtColor(img,cv.COLOR_RGB2GRAY)\n",
    "x,img=cv.threshold(img,158,255,cv.THRESH_BINARY)\n",
    "\n",
    "img=cv.bitwise_not(img)\n",
    "\n",
    "objec,y=cv.findContours(img,cv.RETR_EXTERNAL,cv.CHAIN_APPROX_SIMPLE)\n",
    "print(len(objec))\n",
    "simg=cv.imread('imag4.png')\n",
    "cv.drawContours(simg, objec, -1, (255, 255, 0), 2) \n",
    "cv.imshow('Contour Image', simg)\n",
    "    \n",
    "   \n",
    "cv.waitKey(0)\n",
    "\n",
    "  \n",
    "cv.destroyAllWindows()"
   ]
  }
 ],
 "metadata": {
  "kernelspec": {
   "display_name": "Python 3",
   "language": "python",
   "name": "python3"
  },
  "language_info": {
   "codemirror_mode": {
    "name": "ipython",
    "version": 3
   },
   "file_extension": ".py",
   "mimetype": "text/x-python",
   "name": "python",
   "nbconvert_exporter": "python",
   "pygments_lexer": "ipython3",
   "version": "3.11.4"
  },
  "orig_nbformat": 4
 },
 "nbformat": 4,
 "nbformat_minor": 2
}
